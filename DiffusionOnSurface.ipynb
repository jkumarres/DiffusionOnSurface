{
 "cells": [
  {
   "cell_type": "code",
   "execution_count": null,
   "metadata": {},
   "outputs": [],
   "source": [
    "import numpy as np\n",
    "import matplotlib.pyplot as plt\n",
    "from scipy.spatial import Delaunay"
   ]
  },
  {
   "attachments": {},
   "cell_type": "markdown",
   "metadata": {},
   "source": [
    "## Diffusion equation"
   ]
  },
  {
   "attachments": {},
   "cell_type": "markdown",
   "metadata": {},
   "source": [
    "$\\partial_t \\phi = \\nabla^2 \\phi$"
   ]
  },
  {
   "attachments": {},
   "cell_type": "markdown",
   "metadata": {},
   "source": [
    "Weak form:\\\n",
    "\\\n",
    "$\\quad \\int \\chi \\; \\partial_t \\phi \\; \\sqrt{g} \\; d^2 x  =  \\int \\chi \\; \\nabla^2 \\phi \\; \\sqrt{g} \\; d^2 x = - \\int \\nabla \\chi \\; . \\; \\nabla \\phi \\; \\sqrt{g} \\; d^2 x$"
   ]
  },
  {
   "attachments": {},
   "cell_type": "markdown",
   "metadata": {},
   "source": [
    "For a triangulated surface, with $\\{a,b,c\\}$ as the area coordinates, such that $a+b+c=1$ and $0 \\le a,b,c \\le 1$, then for 1st order FEM we have,\\\n",
    "\\\n",
    "$\\phi = a \\; \\phi_a + b \\; \\phi_b + c \\; \\phi_c$\\\n",
    "\\\n",
    "and let $\\chi \\in \\{a,b,c\\}$"
   ]
  },
  {
   "attachments": {},
   "cell_type": "markdown",
   "metadata": {},
   "source": [
    "$\\vec{\\mathbf{X}} = a \\; \\vec{\\mathbf{X}}_a + b \\; \\vec{\\mathbf{X}}_b + c \\; \\vec{\\mathbf{X}}_c$\\\n",
    "\\\n",
    "where $c = 1 - a - b$"
   ]
  },
  {
   "attachments": {},
   "cell_type": "markdown",
   "metadata": {},
   "source": [
    "$\\vec{\\mathbf{t}}_a = \\partial_a \\vec{\\mathbf{X}} = \\vec{\\mathbf{X}}_a - \\vec{\\mathbf{X}}_c$\\\n",
    "$\\vec{\\mathbf{t}}_b = \\partial_b \\vec{\\mathbf{X}} = \\vec{\\mathbf{X}}_b - \\vec{\\mathbf{X}}_c$"
   ]
  },
  {
   "attachments": {},
   "cell_type": "markdown",
   "metadata": {},
   "source": [
    "$g_{ij} = \\vec{\\mathbf{t}}_i . \\vec{\\mathbf{t}}_j$\\\n",
    "\\\n",
    "$ \\therefore g_{ij} = \\left( \\begin{matrix}\n",
    "    \\left(\\vec{\\mathbf{X}}_a - \\vec{\\mathbf{X}}_c\\right) . \\left(\\vec{\\mathbf{X}}_a - \\vec{\\mathbf{X}}_c\\right)  &  \\left(\\vec{\\mathbf{X}}_a - \\vec{\\mathbf{X}}_c\\right) . \\left(\\vec{\\mathbf{X}}_b - \\vec{\\mathbf{X}}_c\\right) \\\\\n",
    "     \\left(\\vec{\\mathbf{X}}_a - \\vec{\\mathbf{X}}_c\\right) . \\left(\\vec{\\mathbf{X}}_b - \\vec{\\mathbf{X}}_c\\right)  &  \\left(\\vec{\\mathbf{X}}_b - \\vec{\\mathbf{X}}_c\\right) . \\left(\\vec{\\mathbf{X}}_b - \\vec{\\mathbf{X}}_c\\right)\n",
    "    \\end{matrix} \\right) \n",
    "    = \\left( \\begin{matrix}\n",
    "    \\vec{\\mathbf{X}}_{ac} . \\vec{\\mathbf{X}}_{ac}  &  \\vec{\\mathbf{X}}_{ac} . \\vec{\\mathbf{X}}_{bc}  \\\\\n",
    "    \\vec{\\mathbf{X}}_{ac} . \\vec{\\mathbf{X}}_{bc}  &  \\vec{\\mathbf{X}}_{bc} . \\vec{\\mathbf{X}}_{bc} \n",
    "    \\end{matrix} \\right)$"
   ]
  },
  {
   "attachments": {},
   "cell_type": "markdown",
   "metadata": {},
   "source": [
    "$\\Rightarrow \\; g = |\\vec{\\mathbf{X}}_{ac}|^2 \\; |\\vec{\\mathbf{X}}_{bc}|^2 - \\left( \\vec{\\mathbf{X}}_{ac} . \\vec{\\mathbf{X}}_{bc} \\right)^2$"
   ]
  },
  {
   "attachments": {},
   "cell_type": "markdown",
   "metadata": {},
   "source": [
    "$g^{ij} =  \\frac{1}{g}\n",
    "     \\left( \\begin{matrix}\n",
    "     \\vec{\\mathbf{X}}_{bc} . \\vec{\\mathbf{X}}_{bc}  &  -\\vec{\\mathbf{X}}_{ac} . \\vec{\\mathbf{X}}_{bc}  \\\\\n",
    "    -\\vec{\\mathbf{X}}_{ac} . \\vec{\\mathbf{X}}_{bc}  &   \\vec{\\mathbf{X}}_{ac} . \\vec{\\mathbf{X}}_{ac} \n",
    "    \\end{matrix} \\right)$ \n"
   ]
  },
  {
   "attachments": {},
   "cell_type": "markdown",
   "metadata": {},
   "source": [
    "$\\int_{a=0}^{1} \\; \\int_{b=0}^{1-a} da \\;  db = 1/2 $\\\n",
    "\\\n",
    "$\\int_{a=0}^{1} \\; \\int_{b=0}^{1-a} a \\; da \\; db = 1/6 $\\\n",
    "\\\n",
    "$\\int_{a=0}^{1} \\; \\int_{b=0}^{1-a} b \\; da \\; db = 1/6 $\\\n",
    "\\\n",
    "$\\int_{a=0}^{1} \\; \\int_{b=0}^{1-a} c \\; da \\; db = 1/6 $"
   ]
  },
  {
   "attachments": {},
   "cell_type": "markdown",
   "metadata": {},
   "source": [
    "$\\int_{a=0}^{1} \\; \\int_{b=0}^{1-a} a \\; a \\; da \\; db =  1/12 $\\\n",
    "\\\n",
    "$\\int_{a=0}^{1} \\; \\int_{b=0}^{1-a} a \\; b \\; da \\; db =  1/24 $\\\n",
    "\\\n",
    "$\\int_{a=0}^{1} \\; \\int_{b=0}^{1-a} a \\; c \\; da \\; db =  1/24 $\\\n",
    "\\\n",
    "$\\int_{a=0}^{1} \\; \\int_{b=0}^{1-a} c \\; c \\; da \\; db =  1/12 $"
   ]
  },
  {
   "attachments": {},
   "cell_type": "markdown",
   "metadata": {},
   "source": [
    "Now, if $\\chi = a, b, c$ then,\\\n",
    "\\\n",
    "$ 1/12 \\; \\partial_t \\left( \\phi_a + \\phi_b / 2 + \\phi_c /  2 \\right)  =  - 1/2 \\; [ g^{aa} \\; (\\phi_a - \\phi_c) + g^{ab} \\; (\\phi_b - \\phi_c) ]$\\\n",
    "\\\n",
    "$ 1/12 \\; \\partial_t \\left( \\phi_a / 2 + \\phi_b + \\phi_c /  2 \\right)  =  - 1/2 \\; [ g^{bb} \\; (\\phi_b - \\phi_c) + g^{ba} \\; (\\phi_a - \\phi_c) ]$\\\n",
    "\\\n",
    "$ 1/12 \\; \\partial_t \\left( \\phi_a / 2 + \\phi_b / 2 + \\phi_c  \\right)  =    1/2 \\; [ g^{aa} \\; (\\phi_a - \\phi_c) + g^{ab} \\; (\\phi_b - \\phi_c) + g^{bb} \\; (\\phi_b - \\phi_c) + g^{ba} \\; (\\phi_a - \\phi_c) ] $"
   ]
  },
  {
   "attachments": {},
   "cell_type": "markdown",
   "metadata": {},
   "source": [
    "$ \\partial_t \\phi_a = -12 \\; [g^{aa} \\; (\\phi_a - \\phi_c) + g^{ab} \\; (\\phi_b - \\phi_c) ]$\\\n",
    "\\\n",
    "$ \\partial_t \\phi_b = -12 \\; [g^{bb} \\; (\\phi_b - \\phi_c) + g^{ba} \\; (\\phi_a - \\phi_c) ]$\\\n",
    "\\\n",
    "$ \\partial_t \\phi_c =  12 \\; [g^{aa} \\; (\\phi_a - \\phi_c) + g^{ab} \\; (\\phi_b - \\phi_c) + g^{bb} \\; (\\phi_b - \\phi_c) + g^{ba} \\; (\\phi_a - \\phi_c) ]$"
   ]
  },
  {
   "attachments": {},
   "cell_type": "markdown",
   "metadata": {},
   "source": [
    "# Grid generation"
   ]
  },
  {
   "cell_type": "code",
   "execution_count": null,
   "metadata": {},
   "outputs": [],
   "source": [
    "NxGrid = 30\n",
    "NyGrid = 30\n",
    "\n",
    "A = 1\n",
    "\n",
    "# Create a grid of points\n",
    "x = np.linspace(-1, 1, NxGrid)\n",
    "y = np.linspace(-1, 1, NyGrid)\n",
    "\n",
    "XGrid, YGrid = np.meshgrid(x, y)\n",
    "\n",
    "XGrid = XGrid.flatten()\n",
    "YGrid = YGrid.flatten()\n",
    "\n",
    "ZGrid = A * XGrid**2\n",
    "\n",
    "# Create a Delaunay triangulation\n",
    "tri = Delaunay(np.array([XGrid, YGrid]).T)\n",
    "\n",
    "plt.triplot(XGrid, YGrid, tri.simplices.copy())\n",
    "plt.show()\n",
    "\n",
    "fig = plt.figure()\n",
    "ax = fig.add_subplot(111, projection='3d')\n",
    "# plt.tricontourf(XGrid, YGrid, tri.simplices.copy(), ZGrid)\n",
    "ax.plot_trisurf(XGrid, YGrid, tri.simplices.copy(), ZGrid)\n",
    "plt.show()"
   ]
  },
  {
   "attachments": {},
   "cell_type": "markdown",
   "metadata": {},
   "source": [
    "To isometrically flatten the surface, we use the arc length parametrization in the X-direction:\\\n",
    "\\\n",
    "$z(x,y) = A x^2$\\\n",
    "\\\n",
    "$ \\Rightarrow \\; ds^2 \\; = \\; dx^2 + dy^2 + dz^2 \\; = \\; ( 1 + 4 A^2 x^2 ) \\; dx^2 + dy^2$\\\n",
    "\\\n",
    "$ s \\; = \\; \\int_{x=0}^{X} \\sqrt{1 + 4 A^2 x^2 } \\; dx = \\frac{1}{2} \\; x \\; \\sqrt{1 + 4 A^2 x^2} + \\frac{1}{4A} \\; \\sinh ^{-1}(2 A x)$\n"
   ]
  },
  {
   "cell_type": "code",
   "execution_count": null,
   "metadata": {},
   "outputs": [],
   "source": [
    "sGrid = 0.5 * XGrid * np.sqrt( 1 + 4 * A**2 * XGrid**2 ) + 1/(4*A) * np.arcsinh( 2 * A * XGrid )\n",
    "\n",
    "plt.triplot(sGrid, YGrid, tri.simplices.copy())\n",
    "plt.show()"
   ]
  },
  {
   "attachments": {},
   "cell_type": "markdown",
   "metadata": {},
   "source": [
    "$ \\partial_t \\phi_a = -12 \\; [g^{aa} \\; (\\phi_a - \\phi_c) + g^{ab} \\; (\\phi_b - \\phi_c) ] = -12 \\; [g^{aa} \\; \\phi_a + g^{ab} \\; \\phi_b - (g^{aa} + g^{ab}) \\; \\phi_c) ]$\\\n",
    "\\\n",
    "$ g^{aa} = \\left( \\vec{\\mathbf{X}}_{bc} . \\vec{\\mathbf{X}}_{bc} \\right) / g \\;\\; $  and  $ \\;\\; g^{ab} = - \\left( \\vec{\\mathbf{X}}_{ac} . \\vec{\\mathbf{X}}_{bc} \\right) / g $\\\n",
    "\\\n",
    "$ g =  \\left( \\vec{\\mathbf{X}}_{ac} . \\vec{\\mathbf{X}}_{ac} \\right)  \\left( \\vec{\\mathbf{X}}_{bc} . \\vec{\\mathbf{X}}_{bc} \\right) -  \\left( \\vec{\\mathbf{X}}_{ab} . \\vec{\\mathbf{X}}_{ab} \\right)  \\left( \\vec{\\mathbf{X}}_{ab} . \\vec{\\mathbf{X}}_{ab} \\right) $"
   ]
  },
  {
   "cell_type": "code",
   "execution_count": null,
   "metadata": {},
   "outputs": [],
   "source": [
    "NTri = tri.simplices.shape[0]\n",
    "M = np.zeros( [NxGrid*NyGrid , NxGrid*NyGrid] )\n",
    "\n",
    "for i in range(NTri):\n",
    "    a = tri.simplices[i, 0]\n",
    "    b = tri.simplices[i, 1]\n",
    "    c = tri.simplices[i, 2]\n",
    "\n",
    "    abc = np.array([a, b, c])\n",
    "\n",
    "    for j in range(3):\n",
    "        a,b,c = abc[j], abc[(j+1)%3], abc[(j+2)%3]\n",
    "\n",
    "        Xab = XGrid[a] - XGrid[b]\n",
    "        Yab = YGrid[a] - YGrid[b]\n",
    "        Zab = ZGrid[a] - ZGrid[b]\n",
    "\n",
    "        Xac = XGrid[a] - XGrid[c]\n",
    "        Yac = YGrid[a] - YGrid[c]\n",
    "        Zac = ZGrid[a] - ZGrid[c]\n",
    "\n",
    "        Xbc = XGrid[b] - XGrid[c]\n",
    "        Ybc = YGrid[b] - YGrid[c]\n",
    "        Zbc = ZGrid[b] - ZGrid[c]\n",
    "\n",
    "        g = (Xac**2+Yac**2+Zac**2) * (Xbc**2+Ybc**2+Zbc**2) - (Xab**2+Yab**2+Zab**2)**2\n",
    "        gaa =  (Xbc**2+Ybc**2+Zbc**2) / g\n",
    "        gab = -(Xac*Xbc+Yac*Ybc+Zac*Zbc) / g\n",
    "\n",
    "        M[a,a] += -12 * gaa\n",
    "        M[a,b] += -12 * gab\n",
    "        M[a,c] +=  12 * (gaa + gab)\n"
   ]
  },
  {
   "attachments": {},
   "cell_type": "markdown",
   "metadata": {},
   "source": [
    "$ \\phi_i \\; \\rightarrow \\; \\phi_i \\; + \\; \\Delta t \\; \\sum_j M_{ij} \\; \\phi_j $"
   ]
  },
  {
   "cell_type": "code",
   "execution_count": null,
   "metadata": {},
   "outputs": [],
   "source": [
    "Sigma = 0.1\n",
    "dt = 0.00001\n",
    "\n",
    "NIteration = 1000\n",
    "\n",
    "phi = np.exp( - (sGrid**2 + YGrid**2) / (2*Sigma**2) )\n",
    "\n",
    "plt.imshow(phi.reshape(NxGrid, NyGrid))\n",
    "plt.colorbar()\n",
    "plt.show()\n",
    "\n",
    "for i in range(NIteration):\n",
    "    phi = phi + dt * np.matmul(M, phi)\n",
    "\n",
    "    plt.imshow(phi.reshape(NxGrid, NyGrid))\n",
    "    plt.colorbar()\n",
    "    plt.show()"
   ]
  },
  {
   "cell_type": "code",
   "execution_count": null,
   "metadata": {},
   "outputs": [],
   "source": []
  }
 ],
 "metadata": {
  "kernelspec": {
   "display_name": "Python 3",
   "language": "python",
   "name": "python3"
  },
  "language_info": {
   "codemirror_mode": {
    "name": "ipython",
    "version": 3
   },
   "file_extension": ".py",
   "mimetype": "text/x-python",
   "name": "python",
   "nbconvert_exporter": "python",
   "pygments_lexer": "ipython3",
   "version": "3.10.6"
  },
  "orig_nbformat": 4
 },
 "nbformat": 4,
 "nbformat_minor": 2
}
